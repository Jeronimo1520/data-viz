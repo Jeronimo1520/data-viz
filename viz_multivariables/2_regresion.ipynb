{
 "cells": [
  {
   "attachments": {
    "image-7.png": {
     "image/png": "[encoded data removed]"
    }
   },
   "cell_type": "markdown",
   "id": "07dd17c0",
   "metadata": {},
   "source": [
    "# Gráfico de Regresión\n",
    "Es un Scatter Plot con una línea de tendencia (Line of Best Fit). Esta línea representa matemáticamente una regresión lineal con la forma *y = mx + b*. En otras palabras, es una recta con la que yo puedo \"predecir\" que valor de \"y\" tendria un nuevo valor de \"x\". Para este gráfico, ambas variables deben ser numéricas. \n",
    "**Eje X**: Variable numérica  \n",
    "**Eje Y**: Variable numérica  \n",
    "\n",
    "![image-7.png](attachment:image-7.png)\n",
    "\n",
    "**Ejemplos de Uso**:\n",
    "- Como un doctor, me gustaría saber si el nivel de colesterol de una persona se correlaciona con su peso\n",
    "\n",
    "### Cuando utilizar\n",
    "- Quiero comprobar si existe algun tipo de correlación entre dos variables. \n",
    "- Quiero observar la distribución de dos variables al mismo tiempo.\n",
    "\n",
    "### Consejos\n",
    "- No es necesario que el eje Y empiece en el valor del \"cero\"\n",
    "- No utilices colores innecesariamente. Se pueden pintar los puntos para introducir una (3ra) variable categórica al gráfico. \n",
    "- Puedo introducir una 3ra o 4ta variable al gráfico con las siguientes técticas:\n",
    "  - Diferentes formas en los \"puntos\" para introducir una variable categórica.\n",
    "  - Convertirlo en un gráfico de burbujas para introducir una variable numérica.\n",
    "  - Jugar con la intensidad del color de cada punto para introducir una variable numérica.\n",
    "- Si tengo muy pocos puntos en mi dataset, el resultado del gráfico no será interpretable\n",
    "- Si hay una cantidad grande de puntos en mi dataset, podemos coger una muestra, o jugar con la opacidad de los puntos\n",
    "\n",
    "\n",
    "## En esta clase\n",
    "### Datos\n",
    "Información sobre especies de pinguinos\n",
    "### Objetivos\n",
    "1. Encontrar alguna correlación entre las características de los pinguinos\n",
    "\n",
    "## Referencias\n",
    "- https://datavizcatalogue.com/ES/metodos/diagrama_de_dispersion.html\n",
    "- https://chartio.com/learn/charts/what-is-a-scatter-plot/"
   ]
  },
  {
   "cell_type": "code",
   "execution_count": 1,
   "id": "4a6a844d-6b2e-4a3b-b123-81a601cca1d5",
   "metadata": {},
   "outputs": [],
   "source": [
    "import pandas as pd\n",
    "import seaborn as sns \n",
    "\n",
    "sns.set_style('whitegrid')"
   ]
  },
  {
   "cell_type": "markdown",
   "id": "063936e4-533a-4acf-8cf0-f3573a93cb1a",
   "metadata": {},
   "source": [
    "Correlacion para entre la longitud de la aleta y la longitud del pico de la especie Gentoo"
   ]
  },
  {
   "cell_type": "code",
   "execution_count": 15,
   "id": "89fc256f",
   "metadata": {
    "scrolled": true
   },
   "outputs": [
    {
     "data": {
      "text/html": [
       "<div>\n",
       "<style scoped>\n",
       "    .dataframe tbody tr th:only-of-type {\n",
       "        vertical-align: middle;\n",
       "    }\n",
       "\n",
       "    .dataframe tbody tr th {\n",
       "        vertical-align: top;\n",
       "    }\n",
       "\n",
       "    .dataframe thead th {\n",
       "        text-align: right;\n",
       "    }\n",
       "</style>\n",
       "<table border=\"1\" class=\"dataframe\">\n",
       "  <thead>\n",
       "    <tr style=\"text-align: right;\">\n",
       "      <th></th>\n",
       "      <th>species</th>\n",
       "      <th>island</th>\n",
       "      <th>culmen_length_mm</th>\n",
       "      <th>culmen_depth_mm</th>\n",
       "      <th>flipper_length_mm</th>\n",
       "      <th>body_mass_g</th>\n",
       "      <th>sex</th>\n",
       "    </tr>\n",
       "  </thead>\n",
       "  <tbody>\n",
       "    <tr>\n",
       "      <th>220</th>\n",
       "      <td>Gentoo</td>\n",
       "      <td>Biscoe</td>\n",
       "      <td>46.1</td>\n",
       "      <td>13.2</td>\n",
       "      <td>211.0</td>\n",
       "      <td>4500.0</td>\n",
       "      <td>FEMALE</td>\n",
       "    </tr>\n",
       "    <tr>\n",
       "      <th>221</th>\n",
       "      <td>Gentoo</td>\n",
       "      <td>Biscoe</td>\n",
       "      <td>50.0</td>\n",
       "      <td>16.3</td>\n",
       "      <td>230.0</td>\n",
       "      <td>5700.0</td>\n",
       "      <td>MALE</td>\n",
       "    </tr>\n",
       "    <tr>\n",
       "      <th>222</th>\n",
       "      <td>Gentoo</td>\n",
       "      <td>Biscoe</td>\n",
       "      <td>48.7</td>\n",
       "      <td>14.1</td>\n",
       "      <td>210.0</td>\n",
       "      <td>4450.0</td>\n",
       "      <td>FEMALE</td>\n",
       "    </tr>\n",
       "    <tr>\n",
       "      <th>223</th>\n",
       "      <td>Gentoo</td>\n",
       "      <td>Biscoe</td>\n",
       "      <td>50.0</td>\n",
       "      <td>15.2</td>\n",
       "      <td>218.0</td>\n",
       "      <td>5700.0</td>\n",
       "      <td>MALE</td>\n",
       "    </tr>\n",
       "    <tr>\n",
       "      <th>224</th>\n",
       "      <td>Gentoo</td>\n",
       "      <td>Biscoe</td>\n",
       "      <td>47.6</td>\n",
       "      <td>14.5</td>\n",
       "      <td>215.0</td>\n",
       "      <td>5400.0</td>\n",
       "      <td>MALE</td>\n",
       "    </tr>\n",
       "    <tr>\n",
       "      <th>...</th>\n",
       "      <td>...</td>\n",
       "      <td>...</td>\n",
       "      <td>...</td>\n",
       "      <td>...</td>\n",
       "      <td>...</td>\n",
       "      <td>...</td>\n",
       "      <td>...</td>\n",
       "    </tr>\n",
       "    <tr>\n",
       "      <th>339</th>\n",
       "      <td>Gentoo</td>\n",
       "      <td>Biscoe</td>\n",
       "      <td>NaN</td>\n",
       "      <td>NaN</td>\n",
       "      <td>NaN</td>\n",
       "      <td>NaN</td>\n",
       "      <td>NaN</td>\n",
       "    </tr>\n",
       "    <tr>\n",
       "      <th>340</th>\n",
       "      <td>Gentoo</td>\n",
       "      <td>Biscoe</td>\n",
       "      <td>46.8</td>\n",
       "      <td>14.3</td>\n",
       "      <td>215.0</td>\n",
       "      <td>4850.0</td>\n",
       "      <td>FEMALE</td>\n",
       "    </tr>\n",
       "    <tr>\n",
       "      <th>341</th>\n",
       "      <td>Gentoo</td>\n",
       "      <td>Biscoe</td>\n",
       "      <td>50.4</td>\n",
       "      <td>15.7</td>\n",
       "      <td>222.0</td>\n",
       "      <td>5750.0</td>\n",
       "      <td>MALE</td>\n",
       "    </tr>\n",
       "    <tr>\n",
       "      <th>342</th>\n",
       "      <td>Gentoo</td>\n",
       "      <td>Biscoe</td>\n",
       "      <td>45.2</td>\n",
       "      <td>14.8</td>\n",
       "      <td>212.0</td>\n",
       "      <td>5200.0</td>\n",
       "      <td>FEMALE</td>\n",
       "    </tr>\n",
       "    <tr>\n",
       "      <th>343</th>\n",
       "      <td>Gentoo</td>\n",
       "      <td>Biscoe</td>\n",
       "      <td>49.9</td>\n",
       "      <td>16.1</td>\n",
       "      <td>213.0</td>\n",
       "      <td>5400.0</td>\n",
       "      <td>MALE</td>\n",
       "    </tr>\n",
       "  </tbody>\n",
       "</table>\n",
       "<p>124 rows × 7 columns</p>\n",
       "</div>"
      ],
      "text/plain": [
       "    species  island  culmen_length_mm  culmen_depth_mm  flipper_length_mm  \\\n",
       "220  Gentoo  Biscoe              46.1             13.2              211.0   \n",
       "221  Gentoo  Biscoe              50.0             16.3              230.0   \n",
       "222  Gentoo  Biscoe              48.7             14.1              210.0   \n",
       "223  Gentoo  Biscoe              50.0             15.2              218.0   \n",
       "224  Gentoo  Biscoe              47.6             14.5              215.0   \n",
       "..      ...     ...               ...              ...                ...   \n",
       "339  Gentoo  Biscoe               NaN              NaN                NaN   \n",
       "340  Gentoo  Biscoe              46.8             14.3              215.0   \n",
       "341  Gentoo  Biscoe              50.4             15.7              222.0   \n",
       "342  Gentoo  Biscoe              45.2             14.8              212.0   \n",
       "343  Gentoo  Biscoe              49.9             16.1              213.0   \n",
       "\n",
       "     body_mass_g     sex  \n",
       "220       4500.0  FEMALE  \n",
       "221       5700.0    MALE  \n",
       "222       4450.0  FEMALE  \n",
       "223       5700.0    MALE  \n",
       "224       5400.0    MALE  \n",
       "..           ...     ...  \n",
       "339          NaN     NaN  \n",
       "340       4850.0  FEMALE  \n",
       "341       5750.0    MALE  \n",
       "342       5200.0  FEMALE  \n",
       "343       5400.0    MALE  \n",
       "\n",
       "[124 rows x 7 columns]"
      ]
     },
     "execution_count": 15,
     "metadata": {},
     "output_type": "execute_result"
    }
   ],
   "source": [
    "# Leemos los datos con Pandas\n",
    "df = pd.read_csv('./pinguinos.csv')\n",
    "df = df[df['species'] == 'Gentoo']\n",
    "df"
   ]
  },
  {
   "cell_type": "code",
   "execution_count": 16,
   "id": "aeb7779d",
   "metadata": {},
   "outputs": [],
   "source": [
    "df = df.dropna() #Eliminar nulos"
   ]
  },
  {
   "cell_type": "markdown",
   "id": "079126f7-8dc2-4c8f-a01c-ff5296574d61",
   "metadata": {},
   "source": [
    "Para poder calcular el coeficiente de correlacion necesitamos de la libreria scipy para analizar si existe una correlacion fuerte o debil, positiva o negativa.\n"
   ]
  },
  {
   "cell_type": "code",
   "execution_count": 5,
   "id": "b243762e-f4ca-4512-948d-02455aa9ab42",
   "metadata": {},
   "outputs": [
    {
     "name": "stdout",
     "output_type": "stream",
     "text": [
      "Requirement already satisfied: scipy in c:\\users\\jeron\\anaconda32024\\lib\\site-packages (1.11.4)Note: you may need to restart the kernel to use updated packages.\n",
      "\n",
      "Requirement already satisfied: numpy<1.28.0,>=1.21.6 in c:\\users\\jeron\\anaconda32024\\lib\\site-packages (from scipy) (1.26.4)\n"
     ]
    }
   ],
   "source": [
    "#Calcular coeficiente de correlacion\n",
    "%pip install scipy\n",
    "import scipy as sp"
   ]
  },
  {
   "cell_type": "code",
   "execution_count": 17,
   "id": "16c285e4-d6a1-4dcb-9b1c-a9ce4edd2486",
   "metadata": {},
   "outputs": [
    {
     "data": {
      "text/plain": [
       "(0.6617906860524259, 1.8870398188067032e-16)"
      ]
     },
     "execution_count": 17,
     "metadata": {},
     "output_type": "execute_result"
    }
   ],
   "source": [
    "r,p = sp.stats.pearsonr(df['flipper_length_mm'],df['culmen_length_mm'])\n",
    "r,p "
   ]
  },
  {
   "cell_type": "markdown",
   "id": "84db56c4-fa34-4d96-ad5d-36c896931626",
   "metadata": {},
   "source": [
    "Con el valor r de Person igual a 0.65 podemos decir que existe un correlacion positiva moderada entre las variables flipper_length_mm y culmen_length_mm (aleta y pico). Tambien podemos decir que el coeficiente tiene significancia del 0.05 al ser el valor P menor que este valor."
   ]
  },
  {
   "cell_type": "code",
   "execution_count": 19,
   "id": "4b540417-f2fb-4558-93de-63274aab718f",
   "metadata": {},
   "outputs": [
    {
     "data": {
      "text/plain": [
       "Text(225, 42, 'r = 0.66')"
      ]
     },
     "execution_count": 19,
     "metadata": {},
     "output_type": "execute_result"
    },
    {
     "data": {
      "image/png": "[encoded data removed]",
      "text/plain": [
       "<Figure size 640x480 with 1 Axes>"
      ]
     },
     "metadata": {},
     "output_type": "display_data"
    }
   ],
   "source": [
    "plt = sns.regplot(\n",
    "    data = df,\n",
    "    x = 'flipper_length_mm',\n",
    "    y = 'culmen_length_mm',\n",
    "    scatter_kws = {\n",
    "        's':10 #Cambiar tamanio de los puntos\n",
    "    }\n",
    "    \n",
    ")\n",
    "\n",
    "texto = \"r = \" + str(r)[0:4]\n",
    "\n",
    "plt.text(\n",
    "    225,\n",
    "    42,\n",
    "    texto,\n",
    "    color = \"black\"\n",
    ")"
   ]
  },
  {
   "cell_type": "code",
   "execution_count": null,
   "id": "792d1cdb-9a54-4d6b-8831-1e822519bd06",
   "metadata": {},
   "outputs": [],
   "source": []
  }
 ],
 "metadata": {
  "kernelspec": {
   "display_name": "Python 3 (ipykernel)",
   "language": "python",
   "name": "python3"
  },
  "language_info": {
   "codemirror_mode": {
    "name": "ipython",
    "version": 3
   },
   "file_extension": ".py",
   "mimetype": "text/x-python",
   "name": "python",
   "nbconvert_exporter": "python",
   "pygments_lexer": "ipython3",
   "version": "3.11.7"
  }
 },
 "nbformat": 4,
 "nbformat_minor": 5
}
